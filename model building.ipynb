{
 "cells": [
  {
   "cell_type": "code",
   "execution_count": 1,
   "id": "f4532916",
   "metadata": {},
   "outputs": [],
   "source": [
    "import pandas as pd\n",
    "import seaborn as sns\n",
    "import numpy as np\n",
    "import matplotlib.pyplot as plt\n",
    "from category_encoders import OneHotEncoder\n",
    "from sklearn.linear_model import LogisticRegression\n",
    "from sklearn.metrics import accuracy_score\n",
    "from sklearn.pipeline import Pipeline,make_pipeline\n",
    "from sklearn.model_selection import train_test_split"
   ]
  },
  {
   "cell_type": "code",
   "execution_count": 66,
   "id": "622c78df",
   "metadata": {},
   "outputs": [],
   "source": [
    "def clean_data(filepath):\n",
    "    data = pd.read_csv(filepath)\n",
    "    \n",
    "    #converting the disposable income to a standard format\n",
    "    mapping = {\n",
    "    'Less than 1000': 800,\n",
    "    '1000 - 2000': 1600,\n",
    "    '2000 - 3000': 2500,\n",
    "    'More than 3000': 4000\n",
    "    }\n",
    "    mapping2 = {\n",
    "         'Less than 1000': 800,\n",
    "        '1000-2000': 1600,\n",
    "        '2000-3000': 2500,\n",
    "        'More than 3000': 4000\n",
    "     }\n",
    "\n",
    "    data['income'] = data['Disposable Income/Allowance'].map(mapping)\n",
    "    data['income'] = data['Disposable Income/Allowance'].map(mapping2)\n",
    "        \n",
    "    #create our target column using Do you have any Life or Non-Life Insurance Policy column\n",
    "    target_mapping = {\n",
    "    'Yes': 1,\n",
    "    'No': 0}    \n",
    "\n",
    "    data['target'] = data['Do you have any Life or Non-Life Insurance Policy'].map(target_mapping)\n",
    "    \n",
    "    data['target'] = data['target'].fillna(0)\n",
    "    \n",
    "    data['target'] = data['target'].astype(int)\n",
    "    \n",
    "    # remove unimportant columns from the dataset\n",
    "    leaky_cols = ['Timestamp','Username','Gender','Disposable Income/Allowance','Do you have any Life or Non-Life Insurance Policy']\n",
    "    \n",
    "    data = data.drop(columns = leaky_cols)\n",
    "    data = data.dropna()\n",
    "    return data"
   ]
  },
  {
   "cell_type": "code",
   "execution_count": 67,
   "id": "a1986366",
   "metadata": {},
   "outputs": [],
   "source": [
    "data = clean_data('data.csv/ip_data.csv')"
   ]
  },
  {
   "cell_type": "code",
   "execution_count": 68,
   "id": "f693959c",
   "metadata": {},
   "outputs": [
    {
     "name": "stdout",
     "output_type": "stream",
     "text": [
      "<class 'pandas.core.series.Series'>\n",
      "Int64Index: 215 entries, 0 to 256\n",
      "Series name: income\n",
      "Non-Null Count  Dtype  \n",
      "--------------  -----  \n",
      "215 non-null    float64\n",
      "dtypes: float64(1)\n",
      "memory usage: 3.4 KB\n"
     ]
    }
   ],
   "source": [
    "data['income'].info()"
   ]
  },
  {
   "cell_type": "code",
   "execution_count": null,
   "id": "8d0afbbf",
   "metadata": {},
   "outputs": [],
   "source": [
    "data['Occupational Status']"
   ]
  },
  {
   "cell_type": "code",
   "execution_count": null,
   "id": "d7c94ae9",
   "metadata": {},
   "outputs": [],
   "source": [
    "# Create boxplot\n",
    "sns.boxplot(x = \"target\", y = \"income\", data = data)\n",
    "# Label axes\n",
    "plt.xlabel(\"Choice of Insurance\")\n",
    "plt.ylabel(\"Income Level\")\n",
    "plt.title(\"Distribution of Insurance by Income\");"
   ]
  },
  {
   "cell_type": "code",
   "execution_count": 69,
   "id": "ee56c898",
   "metadata": {},
   "outputs": [
    {
     "data": {
      "image/png": "[encoded data removed]",
      "text/plain": [
       "<Figure size 432x288 with 1 Axes>"
      ]
     },
     "metadata": {
      "needs_background": "light"
     },
     "output_type": "display_data"
    }
   ],
   "source": [
    "#class balance\n",
    "data['target'].value_counts(normalize = True).plot(kind = \"bar\", xlabel = \"Class\", ylabel = \"Relative Frequency\", title = \"Class Balance\");"
   ]
  },
  {
   "cell_type": "code",
   "execution_count": null,
   "id": "556b4ae2",
   "metadata": {},
   "outputs": [],
   "source": [
    "# pivot table for Occupational Status\n",
    "occupation_pivot = pd.pivot_table(data,index=\"Occupational Status\",values = \"target\",aggfunc=np.mean).sort_values(by = \"target\")\n",
    "occupation_pivot"
   ]
  },
  {
   "cell_type": "code",
   "execution_count": null,
   "id": "a6f6643b",
   "metadata": {},
   "outputs": [],
   "source": []
  },
  {
   "cell_type": "code",
   "execution_count": 70,
   "id": "4f616469",
   "metadata": {},
   "outputs": [],
   "source": [
    "y = data['target']"
   ]
  },
  {
   "cell_type": "code",
   "execution_count": 71,
   "id": "ae8bf244",
   "metadata": {},
   "outputs": [],
   "source": [
    "X = data.drop(columns = 'target')"
   ]
  },
  {
   "cell_type": "code",
   "execution_count": 72,
   "id": "a7e71cec",
   "metadata": {},
   "outputs": [
    {
     "name": "stdout",
     "output_type": "stream",
     "text": [
      "X_train shape: (172, 10)\n",
      "y_train shape: (172,)\n",
      "X_test shape: (43, 10)\n",
      "y_test shape: (43,)\n"
     ]
    }
   ],
   "source": [
    "X_train, X_test, y_train, y_test = train_test_split(X, y, test_size=0.2, random_state=42)\n",
    "print(\"X_train shape:\", X_train.shape)\n",
    "print(\"y_train shape:\", y_train.shape)\n",
    "print(\"X_test shape:\", X_test.shape)\n",
    "print(\"y_test shape:\", y_test.shape)"
   ]
  },
  {
   "cell_type": "code",
   "execution_count": 73,
   "id": "f6b2d0e9",
   "metadata": {},
   "outputs": [
    {
     "data": {
      "text/plain": [
       "0.5174418604651163"
      ]
     },
     "execution_count": 73,
     "metadata": {},
     "output_type": "execute_result"
    }
   ],
   "source": [
    "y_train.value_counts(normalize = True).max()"
   ]
  },
  {
   "cell_type": "code",
   "execution_count": 74,
   "id": "f1f56c86",
   "metadata": {},
   "outputs": [
    {
     "name": "stdout",
     "output_type": "stream",
     "text": [
      "Baseline Accuracy: 0.52\n"
     ]
    }
   ],
   "source": [
    "# baseline model\n",
    "acc_baseline = y_train.value_counts(normalize = True).max()\n",
    "print(\"Baseline Accuracy:\", round(acc_baseline, 2))"
   ]
  },
  {
   "cell_type": "code",
   "execution_count": 75,
   "id": "aed885a0",
   "metadata": {},
   "outputs": [
    {
     "data": {
      "text/html": [
       "<style>#sk-container-id-3 {color: black;background-color: white;}#sk-container-id-3 pre{padding: 0;}#sk-container-id-3 div.sk-toggleable {background-color: white;}#sk-container-id-3 label.sk-toggleable__label {cursor: pointer;display: block;width: 100%;margin-bottom: 0;padding: 0.3em;box-sizing: border-box;text-align: center;}#sk-container-id-3 label.sk-toggleable__label-arrow:before {content: \"▸\";float: left;margin-right: 0.25em;color: #696969;}#sk-container-id-3 label.sk-toggleable__label-arrow:hover:before {color: black;}#sk-container-id-3 div.sk-estimator:hover label.sk-toggleable__label-arrow:before {color: black;}#sk-container-id-3 div.sk-toggleable__content {max-height: 0;max-width: 0;overflow: hidden;text-align: left;background-color: #f0f8ff;}#sk-container-id-3 div.sk-toggleable__content pre {margin: 0.2em;color: black;border-radius: 0.25em;background-color: #f0f8ff;}#sk-container-id-3 input.sk-toggleable__control:checked~div.sk-toggleable__content {max-height: 200px;max-width: 100%;overflow: auto;}#sk-container-id-3 input.sk-toggleable__control:checked~label.sk-toggleable__label-arrow:before {content: \"▾\";}#sk-container-id-3 div.sk-estimator input.sk-toggleable__control:checked~label.sk-toggleable__label {background-color: #d4ebff;}#sk-container-id-3 div.sk-label input.sk-toggleable__control:checked~label.sk-toggleable__label {background-color: #d4ebff;}#sk-container-id-3 input.sk-hidden--visually {border: 0;clip: rect(1px 1px 1px 1px);clip: rect(1px, 1px, 1px, 1px);height: 1px;margin: -1px;overflow: hidden;padding: 0;position: absolute;width: 1px;}#sk-container-id-3 div.sk-estimator {font-family: monospace;background-color: #f0f8ff;border: 1px dotted black;border-radius: 0.25em;box-sizing: border-box;margin-bottom: 0.5em;}#sk-container-id-3 div.sk-estimator:hover {background-color: #d4ebff;}#sk-container-id-3 div.sk-parallel-item::after {content: \"\";width: 100%;border-bottom: 1px solid gray;flex-grow: 1;}#sk-container-id-3 div.sk-label:hover label.sk-toggleable__label {background-color: #d4ebff;}#sk-container-id-3 div.sk-serial::before {content: \"\";position: absolute;border-left: 1px solid gray;box-sizing: border-box;top: 0;bottom: 0;left: 50%;z-index: 0;}#sk-container-id-3 div.sk-serial {display: flex;flex-direction: column;align-items: center;background-color: white;padding-right: 0.2em;padding-left: 0.2em;position: relative;}#sk-container-id-3 div.sk-item {position: relative;z-index: 1;}#sk-container-id-3 div.sk-parallel {display: flex;align-items: stretch;justify-content: center;background-color: white;position: relative;}#sk-container-id-3 div.sk-item::before, #sk-container-id-3 div.sk-parallel-item::before {content: \"\";position: absolute;border-left: 1px solid gray;box-sizing: border-box;top: 0;bottom: 0;left: 50%;z-index: -1;}#sk-container-id-3 div.sk-parallel-item {display: flex;flex-direction: column;z-index: 1;position: relative;background-color: white;}#sk-container-id-3 div.sk-parallel-item:first-child::after {align-self: flex-end;width: 50%;}#sk-container-id-3 div.sk-parallel-item:last-child::after {align-self: flex-start;width: 50%;}#sk-container-id-3 div.sk-parallel-item:only-child::after {width: 0;}#sk-container-id-3 div.sk-dashed-wrapped {border: 1px dashed gray;margin: 0 0.4em 0.5em 0.4em;box-sizing: border-box;padding-bottom: 0.4em;background-color: white;}#sk-container-id-3 div.sk-label label {font-family: monospace;font-weight: bold;display: inline-block;line-height: 1.2em;}#sk-container-id-3 div.sk-label-container {text-align: center;}#sk-container-id-3 div.sk-container {/* jupyter's `normalize.less` sets `[hidden] { display: none; }` but bootstrap.min.css set `[hidden] { display: none !important; }` so we also need the `!important` here to be able to override the default hidden behavior on the sphinx rendered scikit-learn.org. See: https://github.com/scikit-learn/scikit-learn/issues/21755 */display: inline-block !important;position: relative;}#sk-container-id-3 div.sk-text-repr-fallback {display: none;}</style><div id=\"sk-container-id-3\" class=\"sk-top-container\"><div class=\"sk-text-repr-fallback\"><pre>Pipeline(steps=[(&#x27;onehotencoder&#x27;,\n",
       "                 OneHotEncoder(cols=[&#x27;Educational Background&#x27;,\n",
       "                                     &#x27;Occupational Status&#x27;, &#x27;Educational Level&#x27;,\n",
       "                                     &#x27;Statutory Requirements&#x27;,\n",
       "                                     &#x27;Personal Benefits&#x27;,\n",
       "                                     &#x27;Technological Advancement&#x27;,\n",
       "                                     &#x27;Religious Beliefs / Affiliations&#x27;,\n",
       "                                     &#x27;What is your past or current experience &#x27;\n",
       "                                     &#x27;with insurance companies.&#x27;,\n",
       "                                     &#x27;Did this experience influence your &#x27;\n",
       "                                     &#x27;perception and/or decision to buy &#x27;\n",
       "                                     &#x27;insurance policies.&#x27;],\n",
       "                               use_cat_names=True)),\n",
       "                (&#x27;logisticregression&#x27;, LogisticRegression(max_iter=1000))])</pre><b>In a Jupyter environment, please rerun this cell to show the HTML representation or trust the notebook. <br />On GitHub, the HTML representation is unable to render, please try loading this page with nbviewer.org.</b></div><div class=\"sk-container\" hidden><div class=\"sk-item sk-dashed-wrapped\"><div class=\"sk-label-container\"><div class=\"sk-label sk-toggleable\"><input class=\"sk-toggleable__control sk-hidden--visually\" id=\"sk-estimator-id-7\" type=\"checkbox\" ><label for=\"sk-estimator-id-7\" class=\"sk-toggleable__label sk-toggleable__label-arrow\">Pipeline</label><div class=\"sk-toggleable__content\"><pre>Pipeline(steps=[(&#x27;onehotencoder&#x27;,\n",
       "                 OneHotEncoder(cols=[&#x27;Educational Background&#x27;,\n",
       "                                     &#x27;Occupational Status&#x27;, &#x27;Educational Level&#x27;,\n",
       "                                     &#x27;Statutory Requirements&#x27;,\n",
       "                                     &#x27;Personal Benefits&#x27;,\n",
       "                                     &#x27;Technological Advancement&#x27;,\n",
       "                                     &#x27;Religious Beliefs / Affiliations&#x27;,\n",
       "                                     &#x27;What is your past or current experience &#x27;\n",
       "                                     &#x27;with insurance companies.&#x27;,\n",
       "                                     &#x27;Did this experience influence your &#x27;\n",
       "                                     &#x27;perception and/or decision to buy &#x27;\n",
       "                                     &#x27;insurance policies.&#x27;],\n",
       "                               use_cat_names=True)),\n",
       "                (&#x27;logisticregression&#x27;, LogisticRegression(max_iter=1000))])</pre></div></div></div><div class=\"sk-serial\"><div class=\"sk-item\"><div class=\"sk-estimator sk-toggleable\"><input class=\"sk-toggleable__control sk-hidden--visually\" id=\"sk-estimator-id-8\" type=\"checkbox\" ><label for=\"sk-estimator-id-8\" class=\"sk-toggleable__label sk-toggleable__label-arrow\">OneHotEncoder</label><div class=\"sk-toggleable__content\"><pre>OneHotEncoder(cols=[&#x27;Educational Background&#x27;, &#x27;Occupational Status&#x27;,\n",
       "                    &#x27;Educational Level&#x27;, &#x27;Statutory Requirements&#x27;,\n",
       "                    &#x27;Personal Benefits&#x27;, &#x27;Technological Advancement&#x27;,\n",
       "                    &#x27;Religious Beliefs / Affiliations&#x27;,\n",
       "                    &#x27;What is your past or current experience with insurance &#x27;\n",
       "                    &#x27;companies.&#x27;,\n",
       "                    &#x27;Did this experience influence your perception and/or &#x27;\n",
       "                    &#x27;decision to buy insurance policies.&#x27;],\n",
       "              use_cat_names=True)</pre></div></div></div><div class=\"sk-item\"><div class=\"sk-estimator sk-toggleable\"><input class=\"sk-toggleable__control sk-hidden--visually\" id=\"sk-estimator-id-9\" type=\"checkbox\" ><label for=\"sk-estimator-id-9\" class=\"sk-toggleable__label sk-toggleable__label-arrow\">LogisticRegression</label><div class=\"sk-toggleable__content\"><pre>LogisticRegression(max_iter=1000)</pre></div></div></div></div></div></div></div>"
      ],
      "text/plain": [
       "Pipeline(steps=[('onehotencoder',\n",
       "                 OneHotEncoder(cols=['Educational Background',\n",
       "                                     'Occupational Status', 'Educational Level',\n",
       "                                     'Statutory Requirements',\n",
       "                                     'Personal Benefits',\n",
       "                                     'Technological Advancement',\n",
       "                                     'Religious Beliefs / Affiliations',\n",
       "                                     'What is your past or current experience '\n",
       "                                     'with insurance companies.',\n",
       "                                     'Did this experience influence your '\n",
       "                                     'perception and/or decision to buy '\n",
       "                                     'insurance policies.'],\n",
       "                               use_cat_names=True)),\n",
       "                ('logisticregression', LogisticRegression(max_iter=1000))])"
      ]
     },
     "execution_count": 75,
     "metadata": {},
     "output_type": "execute_result"
    }
   ],
   "source": [
    "# Build model\n",
    "model = make_pipeline(OneHotEncoder(use_cat_names = True),LogisticRegression(max_iter = 1000))\n",
    "# Fit model to training data\n",
    "model.fit(X_train,y_train)"
   ]
  },
  {
   "cell_type": "code",
   "execution_count": 76,
   "id": "a9b0a62b",
   "metadata": {},
   "outputs": [
    {
     "data": {
      "text/plain": [
       "0.7674418604651163"
      ]
     },
     "execution_count": 76,
     "metadata": {},
     "output_type": "execute_result"
    }
   ],
   "source": [
    "#evaluation \n",
    "model.score(X_test, y_test)"
   ]
  },
  {
   "cell_type": "code",
   "execution_count": 77,
   "id": "9328d815",
   "metadata": {},
   "outputs": [
    {
     "name": "stdout",
     "output_type": "stream",
     "text": [
      "Training Accuracy: 0.85\n",
      "Test Accuracy: 0.77\n"
     ]
    }
   ],
   "source": [
    "acc_train = accuracy_score(y_train, model.predict(X_train))\n",
    "acc_test = model.score(X_test, y_test)\n",
    "\n",
    "print(\"Training Accuracy:\", round(acc_train, 2))\n",
    "print(\"Test Accuracy:\", round(acc_test, 2))"
   ]
  },
  {
   "cell_type": "code",
   "execution_count": 78,
   "id": "865abf63",
   "metadata": {},
   "outputs": [
    {
     "name": "stdout",
     "output_type": "stream",
     "text": [
      "[0 0 0 1 0]\n",
      "[[0.88524168 0.11475832]\n",
      " [0.7747635  0.2252365 ]\n",
      " [0.90684679 0.09315321]\n",
      " [0.10441587 0.89558413]\n",
      " [0.56030974 0.43969026]]\n"
     ]
    }
   ],
   "source": [
    "#prediction probability\n",
    "print(model.predict(X_train)[:5])\n",
    "\n",
    "y_train_pred_proba = model.predict_proba(X_train)\n",
    "print(y_train_pred_proba[:5])"
   ]
  },
  {
   "cell_type": "code",
   "execution_count": 79,
   "id": "e2ba1ba8",
   "metadata": {},
   "outputs": [
    {
     "data": {
      "text/plain": [
       "Occupational Status_Student                                              0.281825\n",
       "Personal Benefits_No                                                     0.466726\n",
       "Religious Beliefs / Affiliations_No                                      0.537860\n",
       "What is your past or current experience with insurance companies._Bad    0.601440\n",
       "Technological Advancement_No                                             0.605611\n",
       "dtype: float64"
      ]
     },
     "execution_count": 79,
     "metadata": {},
     "output_type": "execute_result"
    }
   ],
   "source": [
    "# features that contributed to the model building\n",
    "features = model.named_steps['onehotencoder'].get_feature_names_out()\n",
    "importances = model.named_steps['logisticregression'].coef_[0]\n",
    "\n",
    "# odds ratio\n",
    "odds_ratios = pd.Series(np.exp(importances), index = features).sort_values()\n",
    "odds_ratios.head()"
   ]
  },
  {
   "cell_type": "code",
   "execution_count": null,
   "id": "15c6cc59",
   "metadata": {},
   "outputs": [],
   "source": []
  },
  {
   "cell_type": "code",
   "execution_count": 80,
   "id": "7b98fcc8",
   "metadata": {},
   "outputs": [
    {
     "data": {
      "image/png": "[encoded data removed]",
      "text/plain": [
       "<Figure size 432x288 with 1 Axes>"
      ]
     },
     "metadata": {
      "needs_background": "light"
     },
     "output_type": "display_data"
    }
   ],
   "source": [
    "# Horizontal bar chart, five largest coefficients\n",
    "odds_ratios.tail().plot(kind = \"barh\", xlabel = \"Odds Ratio\");"
   ]
  },
  {
   "cell_type": "code",
   "execution_count": 81,
   "id": "62d2751b",
   "metadata": {},
   "outputs": [
    {
     "data": {
      "image/png": "[encoded data removed]",
      "text/plain": [
       "<Figure size 432x288 with 1 Axes>"
      ]
     },
     "metadata": {
      "needs_background": "light"
     },
     "output_type": "display_data"
    }
   ],
   "source": [
    "# Horizontal bar chart, five smallest coefficients\n",
    "odds_ratios.head().plot(kind = \"barh\", xlabel = \"Odds Ratio\");"
   ]
  },
  {
   "cell_type": "code",
   "execution_count": 82,
   "id": "31ae398d",
   "metadata": {},
   "outputs": [],
   "source": []
  },
  {
   "cell_type": "code",
   "execution_count": null,
   "id": "fc255817",
   "metadata": {},
   "outputs": [],
   "source": []
  }
 ],
 "metadata": {
  "kernelspec": {
   "display_name": "Python 3 (ipykernel)",
   "language": "python",
   "name": "python3"
  },
  "language_info": {
   "codemirror_mode": {
    "name": "ipython",
    "version": 3
   },
   "file_extension": ".py",
   "mimetype": "text/x-python",
   "name": "python",
   "nbconvert_exporter": "python",
   "pygments_lexer": "ipython3",
   "version": "3.10.5"
  }
 },
 "nbformat": 4,
 "nbformat_minor": 5
}
