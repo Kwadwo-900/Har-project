{
 "cells": [
  {
   "cell_type": "code",
   "execution_count": 1,
   "id": "c53463a7",
   "metadata": {},
   "outputs": [],
   "source": [
    "import matplotlib.pyplot as plt\n",
    "import numpy as np\n",
    "import pandas as pd\n",
    "import statsmodels.api as sm\n",
    "from scipy import stats\n",
    "from statsmodels.formula.api import logit"
   ]
  },
  {
   "cell_type": "code",
   "execution_count": 2,
   "id": "3c7a7ea7",
   "metadata": {},
   "outputs": [],
   "source": [
    "def clean_data(filepath):\n",
    "    data = pd.read_csv(filepath)\n",
    "    \n",
    "    #converting the disposable income to a standard format\n",
    "    mapping = {\n",
    "    'Less than 1000': 800,\n",
    "    '1000 - 2000': 1600,\n",
    "    '2000 - 3000': 2500,\n",
    "    'More than 3000': 4000\n",
    "    }\n",
    "   \n",
    "\n",
    "    data['income'] = data['Disposable Income/Allowance'].map(mapping)\n",
    "        \n",
    "    #create our target column using Do you have any Life or Non-Life Insurance Policy column\n",
    "    target_mapping = {\n",
    "    'Yes': 1,\n",
    "    'No': 0}    \n",
    "\n",
    "    data['target'] = data['Do you have any Life or Non-Life Insurance Policy'].map(target_mapping)\n",
    "    \n",
    "    data['target'] = data['target'].fillna(0)\n",
    "    \n",
    "    data['target'] = data['target'].astype(int)\n",
    "    \n",
    "    # remove unimportant columns from the dataset\n",
    "    leaky_cols = ['Timestamp','Username','Gender','Disposable Income/Allowance','Do you have any Life or Non-Life Insurance Policy','Occupational Status','Educational Level', 'Did this experience influence your perception and/or decision to buy insurance policies.']\n",
    "    \n",
    "    data = data.drop(columns = leaky_cols)\n",
    "\n",
    "    return data"
   ]
  },
  {
   "cell_type": "code",
   "execution_count": 3,
   "id": "2da2b362",
   "metadata": {},
   "outputs": [],
   "source": [
    "data = clean_data('data.csv/Insurance Penetration.csv')"
   ]
  },
  {
   "cell_type": "code",
   "execution_count": 13,
   "id": "f7b659e9",
   "metadata": {},
   "outputs": [],
   "source": [
    "data['state_req'] = data['Statutory Requirements']"
   ]
  },
  {
   "cell_type": "code",
   "execution_count": 14,
   "id": "f10d4a93",
   "metadata": {},
   "outputs": [
    {
     "data": {
      "text/plain": [
       "Index(['Educational Background', 'Statutory Requirements', 'Personal Benefits',\n",
       "       'Technological Advancement', 'Religious Beliefs / Affiliations',\n",
       "       'What is your past or current experience with insurance companies.',\n",
       "       'income', 'target', 'edu_bag', 'state_req'],\n",
       "      dtype='object')"
      ]
     },
     "execution_count": 14,
     "metadata": {},
     "output_type": "execute_result"
    }
   ],
   "source": [
    "data.columns"
   ]
  },
  {
   "cell_type": "code",
   "execution_count": 8,
   "id": "2223fb61",
   "metadata": {},
   "outputs": [
    {
     "ename": "SyntaxError",
     "evalue": "unterminated string literal (detected at line 2) (Temp/ipykernel_16948/3901337301.py, line 2)",
     "output_type": "error",
     "traceback": [
      "\u001b[1;36m  File \u001b[1;32m\"C:\\Users\\KWADWO~1\\AppData\\Local\\Temp/ipykernel_16948/3901337301.py\"\u001b[1;36m, line \u001b[1;32m2\u001b[0m\n\u001b[1;33m    \"target ~ Educational Background + Statutory Requirements + Personal Benefits + Technological Advancement + Religious Beliefs / Affiliations + What is your past or current experience with insurance companies. + income,\u001b[0m\n\u001b[1;37m    ^\u001b[0m\n\u001b[1;31mSyntaxError\u001b[0m\u001b[1;31m:\u001b[0m unterminated string literal (detected at line 2)\n"
     ]
    }
   ],
   "source": [
    "insurance_mod = logit(\n",
    "    \"target ~ Educational Background + Statutory Requirements + Personal Benefits + Technological Advancement + Religious Beliefs / Affiliations + What is your past or current experience with insurance companies. + income,\n",
    "    data,\n",
    ").fit()\n"
   ]
  },
  {
   "cell_type": "code",
   "execution_count": null,
   "id": "0fb5ceca",
   "metadata": {},
   "outputs": [],
   "source": []
  }
 ],
 "metadata": {
  "kernelspec": {
   "display_name": "Python 3 (ipykernel)",
   "language": "python",
   "name": "python3"
  },
  "language_info": {
   "codemirror_mode": {
    "name": "ipython",
    "version": 3
   },
   "file_extension": ".py",
   "mimetype": "text/x-python",
   "name": "python",
   "nbconvert_exporter": "python",
   "pygments_lexer": "ipython3",
   "version": "3.10.5"
  }
 },
 "nbformat": 4,
 "nbformat_minor": 5
}
