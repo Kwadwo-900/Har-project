{
 "cells": [
  {
   "cell_type": "code",
   "execution_count": 8,
   "id": "c53463a7",
   "metadata": {},
   "outputs": [],
   "source": [
    "import matplotlib.pyplot as plt\n",
    "import numpy as np\n",
    "import pandas as pd\n",
    "import statsmodels.api as sm\n",
    "from scipy import stats\n",
    "\n",
    "from sklearn.model_selection import train_test_split"
   ]
  },
  {
   "cell_type": "code",
   "execution_count": 16,
   "id": "3c7a7ea7",
   "metadata": {},
   "outputs": [],
   "source": [
    "data = pd.read_csv('./data.csv/new_clean_data.csv')"
   ]
  },
  {
   "cell_type": "code",
   "execution_count": null,
   "id": "2da2b362",
   "metadata": {},
   "outputs": [],
   "source": []
  },
  {
   "cell_type": "code",
   "execution_count": 17,
   "id": "f7b659e9",
   "metadata": {},
   "outputs": [
    {
     "data": {
      "text/html": [
       "<div>\n",
       "<style scoped>\n",
       "    .dataframe tbody tr th:only-of-type {\n",
       "        vertical-align: middle;\n",
       "    }\n",
       "\n",
       "    .dataframe tbody tr th {\n",
       "        vertical-align: top;\n",
       "    }\n",
       "\n",
       "    .dataframe thead th {\n",
       "        text-align: right;\n",
       "    }\n",
       "</style>\n",
       "<table border=\"1\" class=\"dataframe\">\n",
       "  <thead>\n",
       "    <tr style=\"text-align: right;\">\n",
       "      <th></th>\n",
       "      <th>income</th>\n",
       "      <th>educ_bag</th>\n",
       "      <th>occ_status</th>\n",
       "      <th>state_req</th>\n",
       "      <th>pers_ben</th>\n",
       "      <th>tech_ad</th>\n",
       "      <th>rel_aff</th>\n",
       "      <th>edu_level</th>\n",
       "      <th>decision_influence</th>\n",
       "      <th>experi_impli</th>\n",
       "      <th>target</th>\n",
       "    </tr>\n",
       "  </thead>\n",
       "  <tbody>\n",
       "    <tr>\n",
       "      <th>0</th>\n",
       "      <td>800.0</td>\n",
       "      <td>1</td>\n",
       "      <td>0</td>\n",
       "      <td>1</td>\n",
       "      <td>1</td>\n",
       "      <td>0</td>\n",
       "      <td>0</td>\n",
       "      <td>1</td>\n",
       "      <td>0</td>\n",
       "      <td>1</td>\n",
       "      <td>0</td>\n",
       "    </tr>\n",
       "    <tr>\n",
       "      <th>1</th>\n",
       "      <td>800.0</td>\n",
       "      <td>1</td>\n",
       "      <td>0</td>\n",
       "      <td>1</td>\n",
       "      <td>1</td>\n",
       "      <td>1</td>\n",
       "      <td>1</td>\n",
       "      <td>1</td>\n",
       "      <td>0</td>\n",
       "      <td>1</td>\n",
       "      <td>0</td>\n",
       "    </tr>\n",
       "    <tr>\n",
       "      <th>2</th>\n",
       "      <td>800.0</td>\n",
       "      <td>0</td>\n",
       "      <td>2</td>\n",
       "      <td>1</td>\n",
       "      <td>1</td>\n",
       "      <td>1</td>\n",
       "      <td>1</td>\n",
       "      <td>1</td>\n",
       "      <td>0</td>\n",
       "      <td>2</td>\n",
       "      <td>0</td>\n",
       "    </tr>\n",
       "    <tr>\n",
       "      <th>3</th>\n",
       "      <td>1600.0</td>\n",
       "      <td>1</td>\n",
       "      <td>2</td>\n",
       "      <td>1</td>\n",
       "      <td>1</td>\n",
       "      <td>1</td>\n",
       "      <td>1</td>\n",
       "      <td>1</td>\n",
       "      <td>0</td>\n",
       "      <td>0</td>\n",
       "      <td>0</td>\n",
       "    </tr>\n",
       "    <tr>\n",
       "      <th>4</th>\n",
       "      <td>800.0</td>\n",
       "      <td>1</td>\n",
       "      <td>0</td>\n",
       "      <td>0</td>\n",
       "      <td>0</td>\n",
       "      <td>1</td>\n",
       "      <td>0</td>\n",
       "      <td>0</td>\n",
       "      <td>1</td>\n",
       "      <td>1</td>\n",
       "      <td>0</td>\n",
       "    </tr>\n",
       "    <tr>\n",
       "      <th>5</th>\n",
       "      <td>800.0</td>\n",
       "      <td>1</td>\n",
       "      <td>0</td>\n",
       "      <td>1</td>\n",
       "      <td>1</td>\n",
       "      <td>1</td>\n",
       "      <td>1</td>\n",
       "      <td>1</td>\n",
       "      <td>0</td>\n",
       "      <td>1</td>\n",
       "      <td>0</td>\n",
       "    </tr>\n",
       "    <tr>\n",
       "      <th>6</th>\n",
       "      <td>800.0</td>\n",
       "      <td>1</td>\n",
       "      <td>0</td>\n",
       "      <td>1</td>\n",
       "      <td>1</td>\n",
       "      <td>1</td>\n",
       "      <td>1</td>\n",
       "      <td>1</td>\n",
       "      <td>1</td>\n",
       "      <td>2</td>\n",
       "      <td>0</td>\n",
       "    </tr>\n",
       "    <tr>\n",
       "      <th>7</th>\n",
       "      <td>1600.0</td>\n",
       "      <td>1</td>\n",
       "      <td>2</td>\n",
       "      <td>1</td>\n",
       "      <td>1</td>\n",
       "      <td>1</td>\n",
       "      <td>1</td>\n",
       "      <td>1</td>\n",
       "      <td>1</td>\n",
       "      <td>1</td>\n",
       "      <td>1</td>\n",
       "    </tr>\n",
       "    <tr>\n",
       "      <th>8</th>\n",
       "      <td>800.0</td>\n",
       "      <td>1</td>\n",
       "      <td>0</td>\n",
       "      <td>1</td>\n",
       "      <td>1</td>\n",
       "      <td>1</td>\n",
       "      <td>0</td>\n",
       "      <td>1</td>\n",
       "      <td>0</td>\n",
       "      <td>1</td>\n",
       "      <td>0</td>\n",
       "    </tr>\n",
       "    <tr>\n",
       "      <th>9</th>\n",
       "      <td>2500.0</td>\n",
       "      <td>1</td>\n",
       "      <td>2</td>\n",
       "      <td>1</td>\n",
       "      <td>1</td>\n",
       "      <td>1</td>\n",
       "      <td>0</td>\n",
       "      <td>1</td>\n",
       "      <td>0</td>\n",
       "      <td>1</td>\n",
       "      <td>0</td>\n",
       "    </tr>\n",
       "  </tbody>\n",
       "</table>\n",
       "</div>"
      ],
      "text/plain": [
       "   income  educ_bag  occ_status  state_req  pers_ben  tech_ad  rel_aff  \\\n",
       "0   800.0         1           0          1         1        0        0   \n",
       "1   800.0         1           0          1         1        1        1   \n",
       "2   800.0         0           2          1         1        1        1   \n",
       "3  1600.0         1           2          1         1        1        1   \n",
       "4   800.0         1           0          0         0        1        0   \n",
       "5   800.0         1           0          1         1        1        1   \n",
       "6   800.0         1           0          1         1        1        1   \n",
       "7  1600.0         1           2          1         1        1        1   \n",
       "8   800.0         1           0          1         1        1        0   \n",
       "9  2500.0         1           2          1         1        1        0   \n",
       "\n",
       "   edu_level  decision_influence  experi_impli  target  \n",
       "0          1                   0             1       0  \n",
       "1          1                   0             1       0  \n",
       "2          1                   0             2       0  \n",
       "3          1                   0             0       0  \n",
       "4          0                   1             1       0  \n",
       "5          1                   0             1       0  \n",
       "6          1                   1             2       0  \n",
       "7          1                   1             1       1  \n",
       "8          1                   0             1       0  \n",
       "9          1                   0             1       0  "
      ]
     },
     "execution_count": 17,
     "metadata": {},
     "output_type": "execute_result"
    }
   ],
   "source": [
    "data.head(10)"
   ]
  },
  {
   "cell_type": "code",
   "execution_count": 18,
   "id": "a7250dd9",
   "metadata": {},
   "outputs": [
    {
     "name": "stdout",
     "output_type": "stream",
     "text": [
      "<class 'pandas.core.frame.DataFrame'>\n",
      "RangeIndex: 256 entries, 0 to 255\n",
      "Data columns (total 11 columns):\n",
      " #   Column              Non-Null Count  Dtype  \n",
      "---  ------              --------------  -----  \n",
      " 0   income              256 non-null    float64\n",
      " 1   educ_bag            256 non-null    int64  \n",
      " 2   occ_status          256 non-null    int64  \n",
      " 3   state_req           256 non-null    int64  \n",
      " 4   pers_ben            256 non-null    int64  \n",
      " 5   tech_ad             256 non-null    int64  \n",
      " 6   rel_aff             256 non-null    int64  \n",
      " 7   edu_level           256 non-null    int64  \n",
      " 8   decision_influence  256 non-null    int64  \n",
      " 9   experi_impli        256 non-null    int64  \n",
      " 10  target              256 non-null    int64  \n",
      "dtypes: float64(1), int64(10)\n",
      "memory usage: 22.1 KB\n"
     ]
    }
   ],
   "source": [
    "data.info()"
   ]
  },
  {
   "cell_type": "code",
   "execution_count": 19,
   "id": "f10d4a93",
   "metadata": {},
   "outputs": [],
   "source": [
    "y = data['target']\n",
    "X = data.drop(columns = 'target')"
   ]
  },
  {
   "cell_type": "code",
   "execution_count": 20,
   "id": "44ee2880",
   "metadata": {},
   "outputs": [],
   "source": [
    "X_train,y_train,X_test,y_test = train_test_split(X,y, test_size = 0.2, random_state=42)"
   ]
  },
  {
   "cell_type": "code",
   "execution_count": 25,
   "id": "d3057fe6",
   "metadata": {},
   "outputs": [
    {
     "data": {
      "text/plain": [
       "0      0\n",
       "1      0\n",
       "2      0\n",
       "3      0\n",
       "4      0\n",
       "      ..\n",
       "251    0\n",
       "252    1\n",
       "253    1\n",
       "254    1\n",
       "255    0\n",
       "Name: target, Length: 256, dtype: int64"
      ]
     },
     "execution_count": 25,
     "metadata": {},
     "output_type": "execute_result"
    }
   ],
   "source": []
  },
  {
   "cell_type": "code",
   "execution_count": 26,
   "id": "2223fb61",
   "metadata": {},
   "outputs": [
    {
     "name": "stdout",
     "output_type": "stream",
     "text": [
      "Optimization terminated successfully.\n",
      "         Current function value: 0.460135\n",
      "         Iterations 7\n"
     ]
    }
   ],
   "source": [
    "insurance_mod = sm.Logit(y,X).fit()\n"
   ]
  },
  {
   "cell_type": "code",
   "execution_count": 29,
   "id": "0fb5ceca",
   "metadata": {},
   "outputs": [
    {
     "name": "stdout",
     "output_type": "stream",
     "text": [
      "                          Results: Logit\n",
      "==================================================================\n",
      "Model:               Logit            Method:           MLE       \n",
      "Dependent Variable:  target           Pseudo R-squared: 0.333     \n",
      "Date:                2023-09-05 13:13 AIC:              255.5892  \n",
      "No. Observations:    256              BIC:              291.0410  \n",
      "Df Model:            9                Log-Likelihood:   -117.79   \n",
      "Df Residuals:        246              LL-Null:          -176.66   \n",
      "Converged:           1.0000           LLR p-value:      3.8780e-21\n",
      "No. Iterations:      7.0000           Scale:            1.0000    \n",
      "------------------------------------------------------------------\n",
      "                    Coef.  Std.Err.    z    P>|z|   [0.025  0.975]\n",
      "------------------------------------------------------------------\n",
      "income              0.0003   0.0002  1.5024 0.1330 -0.0001  0.0008\n",
      "educ_bag           -2.4791   0.6787 -3.6526 0.0003 -3.8093 -1.1488\n",
      "occ_status          0.9578   0.2137  4.4824 0.0000  0.5390  1.3767\n",
      "state_req          -0.4959   0.5619 -0.8825 0.3775 -1.5971  0.6054\n",
      "pers_ben            0.5397   0.7275  0.7418 0.4582 -0.8863  1.9656\n",
      "tech_ad             0.6408   0.5447  1.1763 0.2395 -0.4269  1.7085\n",
      "rel_aff             1.0074   0.3830  2.6302 0.0085  0.2567  1.7581\n",
      "edu_level          -0.9415   0.7135 -1.3197 0.1869 -2.3399  0.4568\n",
      "decision_influence  0.2082   0.3668  0.5677 0.5703 -0.5107  0.9272\n",
      "experi_impli        0.4645   0.2663  1.7446 0.0811 -0.0573  0.9864\n",
      "==================================================================\n",
      "\n"
     ]
    }
   ],
   "source": [
    "print(insurance_mod.summary2())"
   ]
  },
  {
   "cell_type": "code",
   "execution_count": 30,
   "id": "4ed0ea4e",
   "metadata": {},
   "outputs": [
    {
     "name": "stdout",
     "output_type": "stream",
     "text": [
      "                           Logit Regression Results                           \n",
      "==============================================================================\n",
      "Dep. Variable:                 target   No. Observations:                  256\n",
      "Model:                          Logit   Df Residuals:                      246\n",
      "Method:                           MLE   Df Model:                            9\n",
      "Date:                Tue, 05 Sep 2023   Pseudo R-squ.:                  0.3332\n",
      "Time:                        13:14:16   Log-Likelihood:                -117.79\n",
      "converged:                       True   LL-Null:                       -176.66\n",
      "Covariance Type:            nonrobust   LLR p-value:                 3.878e-21\n",
      "======================================================================================\n",
      "                         coef    std err          z      P>|z|      [0.025      0.975]\n",
      "--------------------------------------------------------------------------------------\n",
      "income                 0.0003      0.000      1.502      0.133      -0.000       0.001\n",
      "educ_bag              -2.4791      0.679     -3.653      0.000      -3.809      -1.149\n",
      "occ_status             0.9578      0.214      4.482      0.000       0.539       1.377\n",
      "state_req             -0.4959      0.562     -0.883      0.378      -1.597       0.605\n",
      "pers_ben               0.5397      0.728      0.742      0.458      -0.886       1.966\n",
      "tech_ad                0.6408      0.545      1.176      0.239      -0.427       1.708\n",
      "rel_aff                1.0074      0.383      2.630      0.009       0.257       1.758\n",
      "edu_level             -0.9415      0.713     -1.320      0.187      -2.340       0.457\n",
      "decision_influence     0.2082      0.367      0.568      0.570      -0.511       0.927\n",
      "experi_impli           0.4645      0.266      1.745      0.081      -0.057       0.986\n",
      "======================================================================================\n"
     ]
    }
   ],
   "source": [
    "print(insurance_mod.summary())"
   ]
  }
 ],
 "metadata": {
  "kernelspec": {
   "display_name": "Python 3 (ipykernel)",
   "language": "python",
   "name": "python3"
  },
  "language_info": {
   "codemirror_mode": {
    "name": "ipython",
    "version": 3
   },
   "file_extension": ".py",
   "mimetype": "text/x-python",
   "name": "python",
   "nbconvert_exporter": "python",
   "pygments_lexer": "ipython3",
   "version": "3.10.5"
  }
 },
 "nbformat": 4,
 "nbformat_minor": 5
}
